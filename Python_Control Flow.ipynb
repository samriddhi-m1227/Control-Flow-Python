{
 "cells": [
  {
   "cell_type": "markdown",
   "id": "94da2ec3-e9f4-42da-b54a-3b6c0f7d11aa",
   "metadata": {},
   "source": [
    "# Control Flow in Python \n",
    "1. Introduction to Control Flow\n",
    "\n",
    "Control flow in programming refers to the order in which individual statements, instructions, or function calls are executed or evaluated. Understanding control flow is essential for creating algorithms and solving complex problems.\n",
    "\n",
    "2. Conditional Statements:\n",
    "\n",
    "Conditional statements allow you to execute certain pieces of code based on whether a condition is true or false"
   ]
  },
  {
   "cell_type": "markdown",
   "id": "8a0fc87d-9cbf-4134-833e-e065a0a76861",
   "metadata": {},
   "source": [
    "## \"if' Statement\n",
    "\n",
    "The statement executes a block of code if a specified condition is true"
   ]
  },
  {
   "cell_type": "code",
   "execution_count": 1,
   "id": "37e9d2cd-77fe-4050-9e14-f546c5c2c6d5",
   "metadata": {},
   "outputs": [
    {
     "name": "stdout",
     "output_type": "stream",
     "text": [
      "x is greater than 5\n"
     ]
    }
   ],
   "source": [
    "x=10\n",
    "if x> 5:\n",
    "    print(\"x is greater than 5\")"
   ]
  },
  {
   "cell_type": "markdown",
   "id": "59cff75c-55c4-4441-a527-dbe1acc99c4d",
   "metadata": {},
   "source": [
    "## 'if-else' Statement\n",
    "\n",
    "The if-else statement executes one block of code if the condition is true and another block of code if the condition is false.\n"
   ]
  },
  {
   "cell_type": "code",
   "execution_count": 4,
   "id": "ac0ab659-f202-4438-abfc-b1563ae900d8",
   "metadata": {},
   "outputs": [
    {
     "name": "stdout",
     "output_type": "stream",
     "text": [
      "x is not greater than 5\n"
     ]
    }
   ],
   "source": [
    "x=3 \n",
    "if x > 5:\n",
    "    print(\"x is greater than 5\")\n",
    "else: \n",
    "    print(\"x is not greater than 5\")"
   ]
  },
  {
   "cell_type": "markdown",
   "id": "52eebedb-4e42-4924-9711-3b7b33ebb607",
   "metadata": {},
   "source": [
    "## 'if-elif-else' Statement'\n",
    "- used when you have 3 or more statements "
   ]
  },
  {
   "cell_type": "code",
   "execution_count": 6,
   "id": "7a8faecc-8622-4de6-b44e-dce88288d90e",
   "metadata": {},
   "outputs": [
    {
     "name": "stdout",
     "output_type": "stream",
     "text": [
      "is greater than 5 but less than or equal to 15\n"
     ]
    }
   ],
   "source": [
    "x=10\n",
    "if x> 15:\n",
    "    print (\"x is greater than 15\")\n",
    "elif x> 5:\n",
    "    print(\"is greater than 5 but less than or equal to 15\")\n",
    "else:\n",
    "    print(\"x is 5 or less\")"
   ]
  },
  {
   "cell_type": "markdown",
   "id": "29dd042a-ce9a-4fdf-aa50-c6b7bb9bd236",
   "metadata": {},
   "source": [
    "## Looping Statements/ Iterative Statements \n",
    "\n",
    "Looping statements allow you to execute a block of code repeatedly."
   ]
  },
  {
   "cell_type": "markdown",
   "id": "e9097d0c-7f04-4e87-8cec-4a2368f34d39",
   "metadata": {},
   "source": [
    "## 'for' Loop\n",
    "\n",
    "the for loop iterates over a sequence(such as a list, tuple, dictionary, set or string)."
   ]
  },
  {
   "cell_type": "code",
   "execution_count": 10,
   "id": "721ce32f-9555-4f71-9e15-2a5016a5e896",
   "metadata": {},
   "outputs": [
    {
     "name": "stdout",
     "output_type": "stream",
     "text": [
      "0\n",
      "1\n",
      "2\n",
      "3\n",
      "4\n"
     ]
    }
   ],
   "source": [
    "for i in range(5):\n",
    " print(i)"
   ]
  },
  {
   "cell_type": "markdown",
   "id": "9600304d-f431-456f-b21c-d19fcaf254f2",
   "metadata": {},
   "source": [
    "## 'while' Loop \n",
    "\n",
    "The while loop executes a block of code as long as a specified condition is true"
   ]
  },
  {
   "cell_type": "code",
   "execution_count": 11,
   "id": "4474251a-de01-4902-80e3-8e1c6ef084c0",
   "metadata": {},
   "outputs": [
    {
     "name": "stdout",
     "output_type": "stream",
     "text": [
      "0\n",
      "1\n",
      "2\n",
      "3\n",
      "4\n"
     ]
    }
   ],
   "source": [
    "count=0\n",
    "while count <5:\n",
    "    print(count)\n",
    "    count+=1"
   ]
  },
  {
   "cell_type": "markdown",
   "id": "442ac668-5dca-40d3-bb69-b01a308b9920",
   "metadata": {},
   "source": [
    "## Control Flow Tools \n",
    "Python provides several tools to control the flow of loops and conditionals "
   ]
  },
  {
   "cell_type": "markdown",
   "id": "ea663290-d2e6-420a-996d-7edb0b896097",
   "metadata": {},
   "source": [
    "## 'break' Statement\n",
    "The break statement terminates the loop prematurely"
   ]
  },
  {
   "cell_type": "code",
   "execution_count": 105,
   "id": "495123dd-6b15-45d0-8378-2a4be2432008",
   "metadata": {},
   "outputs": [],
   "source": [
    "for i in range(10):\n",
    "     if i == 5:\n",
    "         break\n",
    "         print(i)(i)"
   ]
  },
  {
   "cell_type": "markdown",
   "id": "b8a821ef-ec3e-4f67-82a4-6ae74cab6a08",
   "metadata": {},
   "source": [
    "## 'continue' Statement\n",
    "The continue statement skips the rest of the code inside the loop for the current iteration\n",
    "and moves to the next iteration."
   ]
  },
  {
   "cell_type": "code",
   "execution_count": 40,
   "id": "ad908eaa-8561-4c3a-8b19-e95475ff8cbe",
   "metadata": {},
   "outputs": [
    {
     "name": "stdout",
     "output_type": "stream",
     "text": [
      "1\n",
      "3\n",
      "5\n",
      "7\n",
      "9\n"
     ]
    }
   ],
   "source": [
    "for i in range(10):\n",
    " if i % 2 == 0:\n",
    "     continue\n",
    " print(i)\n"
   ]
  },
  {
   "cell_type": "markdown",
   "id": "701b85b0-296d-434b-9440-5652fccf362b",
   "metadata": {},
   "source": [
    "## 'pass' Statement\n",
    "The pass statement does nothing and is used just as a placeholder "
   ]
  },
  {
   "cell_type": "code",
   "execution_count": 12,
   "id": "6539d835-273a-43b9-9a30-93aff0325bdd",
   "metadata": {},
   "outputs": [
    {
     "name": "stdout",
     "output_type": "stream",
     "text": [
      "1\n",
      "3\n",
      "5\n",
      "7\n",
      "9\n"
     ]
    }
   ],
   "source": [
    "for i in range(10):\n",
    " if i%2==0:\n",
    "     pass\n",
    " else: \n",
    "     print(i)"
   ]
  },
  {
   "cell_type": "code",
   "execution_count": 14,
   "id": "1be964f1-c361-4b18-9131-8b93512b0902",
   "metadata": {},
   "outputs": [
    {
     "name": "stdout",
     "output_type": "stream",
     "text": [
      "[2, 4, 6, 8, 10]\n"
     ]
    }
   ],
   "source": [
    "# Filter out the even numbers from a list\n",
    "\n",
    "data= [1,2,3,4,5,6,7,8,9,10]\n",
    "filtered_data=[x for x in data if x %2 ==0]\n",
    "print(filtered_data)"
   ]
  },
  {
   "cell_type": "code",
   "execution_count": 17,
   "id": "48783c76-fd3a-4745-9651-34904efe7d57",
   "metadata": {},
   "outputs": [
    {
     "name": "stdout",
     "output_type": "stream",
     "text": [
      "Sum: 15\n"
     ]
    }
   ],
   "source": [
    "# Calculate the sum of all elements in a list\n",
    "\n",
    "data=[1,2,3,4,5]\n",
    "total=0\n",
    "for num in data:\n",
    "    total+=num\n",
    "print(\"Sum:\", total)"
   ]
  },
  {
   "cell_type": "code",
   "execution_count": 31,
   "id": "5680625a-e8ec-4384-9e82-652930f41e0e",
   "metadata": {},
   "outputs": [
    {
     "name": "stdout",
     "output_type": "stream",
     "text": [
      "1\n",
      "2\n",
      "Fizz\n",
      "4\n",
      "Buzz\n",
      "Fizz\n",
      "7\n",
      "8\n",
      "Fizz\n",
      "Buzz\n",
      "11\n",
      "Fizz\n",
      "13\n",
      "14\n",
      "FizzBuzz\n",
      "16\n",
      "17\n",
      "Fizz\n",
      "19\n",
      "Buzz\n",
      "Fizz\n",
      "22\n",
      "23\n",
      "Fizz\n",
      "Buzz\n",
      "26\n",
      "Fizz\n",
      "28\n",
      "29\n",
      "FizzBuzz\n",
      "31\n",
      "32\n",
      "Fizz\n",
      "34\n",
      "Buzz\n",
      "Fizz\n",
      "37\n",
      "38\n",
      "Fizz\n",
      "Buzz\n",
      "41\n",
      "Fizz\n",
      "43\n",
      "44\n",
      "FizzBuzz\n",
      "46\n",
      "47\n",
      "Fizz\n",
      "49\n",
      "Buzz\n"
     ]
    }
   ],
   "source": [
    "# Write a program that prints the number from 1 to 50\n",
    "# But for multiples of three, print \"Fizz\" instead of the number and for the multiples of five, \n",
    "# print \"Buzz\". For numbers which are multiples of both three and five, print \"FizzBuzz\".\n",
    "\n",
    "\n",
    "for i in range(1,51):\n",
    "    if i%3==0 and i%5 ==0:\n",
    "        print(\"FizzBuzz\")\n",
    "    elif i%3==0:\n",
    "        print(\"Fizz\")\n",
    "    elif i%5==0:\n",
    "        print(\"Buzz\")\n",
    "    else:\n",
    "        print(i)\n",
    "    "
   ]
  },
  {
   "cell_type": "code",
   "execution_count": 72,
   "id": "76617a8f-2770-4361-b1a9-841110d4b6a4",
   "metadata": {},
   "outputs": [
    {
     "name": "stdout",
     "output_type": "stream",
     "text": [
      "2\n",
      "3\n",
      "5\n",
      "7\n",
      "11\n",
      "13\n",
      "17\n",
      "19\n",
      "23\n",
      "29\n",
      "31\n",
      "37\n",
      "41\n",
      "43\n",
      "47\n",
      "53\n",
      "59\n",
      "61\n",
      "67\n",
      "71\n",
      "73\n",
      "79\n",
      "83\n",
      "89\n",
      "97\n"
     ]
    }
   ],
   "source": [
    "# Write a program to print all prime numbers between 1 and 100\n",
    "\n",
    "for num in range(2, 101):\n",
    " is_prime = True\n",
    " for i in range(2, int(num ** 0.5) + 1):\n",
    "     if num % i == 0:\n",
    "         is_prime = False\n",
    "         break\n",
    " if is_prime:\n",
    "     print(num)"
   ]
  },
  {
   "cell_type": "code",
   "execution_count": 75,
   "id": "3a4178d6-4f22-4328-a426-d136060dc95b",
   "metadata": {},
   "outputs": [
    {
     "name": "stdout",
     "output_type": "stream",
     "text": [
      "Sum of digits: 15\n"
     ]
    }
   ],
   "source": [
    "# Write a program to find the sum of the digits of a number.\n",
    "\n",
    "number=12345\n",
    "total=0\n",
    "\n",
    "while number>0:\n",
    "    digit= number%10\n",
    "    total+=digit\n",
    "    number=number//10\n",
    "print(\"Sum of digits:\", total)"
   ]
  },
  {
   "cell_type": "code",
   "execution_count": 78,
   "id": "62beb290-ac8d-4fb0-9424-05bb76de379c",
   "metadata": {},
   "outputs": [
    {
     "name": "stdout",
     "output_type": "stream",
     "text": [
      "0\n",
      "1\n",
      "1\n",
      "2\n",
      "3\n",
      "5\n",
      "8\n",
      "13\n",
      "21\n",
      "34\n"
     ]
    }
   ],
   "source": [
    "# Write a program to print the Fibonacci sequence up to 'n' terms.\n",
    "\n",
    "n=10\n",
    "fib_sequence=[0,1]\n",
    "for i in range(2, n):\n",
    "    next_term=fib_sequence[i-1]+fib_sequence[i-2]\n",
    "    fib_sequence.append(next_term)\n",
    "\n",
    "for terms in fib_sequence:\n",
    "    print(terms)\n"
   ]
  },
  {
   "cell_type": "code",
   "execution_count": 80,
   "id": "c6c85ecf-41d4-4926-bbd5-674bc1822527",
   "metadata": {},
   "outputs": [
    {
     "name": "stdout",
     "output_type": "stream",
     "text": [
      "The factorial for 5  is:  120\n"
     ]
    }
   ],
   "source": [
    "# Write a program to calculate the factorial of a given number.\n",
    "\n",
    "num=5\n",
    "factorial=1\n",
    "for i in range(1, num+1):\n",
    "    factorial*=i\n",
    "\n",
    "print(\"The factorial for\", num, \" is: \", factorial)"
   ]
  },
  {
   "cell_type": "code",
   "execution_count": 82,
   "id": "f3175e95-46b4-4d31-ac74-9056205712a3",
   "metadata": {},
   "outputs": [
    {
     "name": "stdout",
     "output_type": "stream",
     "text": [
      "Reversed String: ataD\n"
     ]
    }
   ],
   "source": [
    "# Write a program to reverse a given string.\n",
    "\n",
    "word=\"Data\"\n",
    "reverse=\"\"\n",
    "for char in word:\n",
    "    reverse=char+reverse\n",
    "print(\"Reversed String:\", reverse)\n",
    "    "
   ]
  },
  {
   "cell_type": "code",
   "execution_count": 89,
   "id": "57debbfa-9c3c-40f4-9c22-b4ec4b8e52da",
   "metadata": {},
   "outputs": [
    {
     "name": "stdout",
     "output_type": "stream",
     "text": [
      "Is Palindrome?:  True\n"
     ]
    }
   ],
   "source": [
    "# Write a program to check if a given string is a palindrome.\n",
    "\n",
    "word=\"radar\"\n",
    "isPalindrome=word==word[::-1]\n",
    "print(\"Is Palindrome?: \", isPalindrome)"
   ]
  },
  {
   "cell_type": "code",
   "execution_count": 92,
   "id": "98db5236-96e8-4508-8b8b-c8add842f2c6",
   "metadata": {},
   "outputs": [
    {
     "name": "stdout",
     "output_type": "stream",
     "text": [
      "Vowels: 3\n",
      "Consonant: 7\n"
     ]
    }
   ],
   "source": [
    "# Write a program to count the number of vowels and consonants in a string.\n",
    "\n",
    "s=\"Hello World\"\n",
    "vowels=\"aieou\"\n",
    "vowel_count=0\n",
    "consonant_count=0\n",
    "\n",
    "for char in s.lower():\n",
    "    if char in vowels:\n",
    "        vowel_count+=1\n",
    "    elif char.isalpha():\n",
    "        consonant_count+=1\n",
    "\n",
    "print(\"Vowels:\", vowel_count)\n",
    "print(\"Consonant:\", consonant_count)"
   ]
  },
  {
   "cell_type": "code",
   "execution_count": 93,
   "id": "60afc769-4932-48e3-8190-b9e908b86025",
   "metadata": {},
   "outputs": [
    {
     "name": "stdout",
     "output_type": "stream",
     "text": [
      "Maximum number: 10\n"
     ]
    }
   ],
   "source": [
    "# Write a program to find the maximum number in a given list.\n",
    "\n",
    "numbers= [10,3,6,8,2,9]\n",
    "max_num=numbers[0]\n",
    "\n",
    "for num in numbers:\n",
    "    if num>max_num:\n",
    "        max_num=num\n",
    "\n",
    "print(\"Maximum number:\", max_num)"
   ]
  },
  {
   "cell_type": "code",
   "execution_count": 95,
   "id": "a1ab3728-ec95-4594-8a29-bcf145647f84",
   "metadata": {},
   "outputs": [
    {
     "name": "stdout",
     "output_type": "stream",
     "text": [
      "Sum of all even numbers: 30\n"
     ]
    }
   ],
   "source": [
    "# Write a program to calculate the sum of all even numbers in a list.\n",
    "\n",
    "numbers=[1,2,3,4,5,6,7,8,9,10]\n",
    "even_sum=0\n",
    "\n",
    "for num in numbers:\n",
    "    if num%2==0:\n",
    "        even_sum+=num\n",
    "\n",
    "print(\"Sum of all even numbers:\", even_sum)"
   ]
  },
  {
   "cell_type": "code",
   "execution_count": 99,
   "id": "9136e7b2-5773-4b76-8fab-d39c36c21d1a",
   "metadata": {},
   "outputs": [
    {
     "name": "stdout",
     "output_type": "stream",
     "text": [
      "1\t2\t3\t4\t5\t6\t7\t8\t9\t10\t\n",
      "2\t4\t6\t8\t10\t12\t14\t16\t18\t20\t\n",
      "3\t6\t9\t12\t15\t18\t21\t24\t27\t30\t\n",
      "4\t8\t12\t16\t20\t24\t28\t32\t36\t40\t\n",
      "5\t10\t15\t20\t25\t30\t35\t40\t45\t50\t\n",
      "6\t12\t18\t24\t30\t36\t42\t48\t54\t60\t\n",
      "7\t14\t21\t28\t35\t42\t49\t56\t63\t70\t\n",
      "8\t16\t24\t32\t40\t48\t56\t64\t72\t80\t\n",
      "9\t18\t27\t36\t45\t54\t63\t72\t81\t90\t\n",
      "10\t20\t30\t40\t50\t60\t70\t80\t90\t100\t\n"
     ]
    }
   ],
   "source": [
    "# Write a program to print a multiplication table (from 1 to 10)\n",
    "\n",
    "for i in range(1,11):\n",
    "    for j in range(1,11):\n",
    "        print(i*j, end=\"\\t\")\n",
    "    print()"
   ]
  },
  {
   "cell_type": "code",
   "execution_count": 107,
   "id": "492cf7f4-d91f-475b-a2ee-620ea5ca9a02",
   "metadata": {},
   "outputs": [
    {
     "name": "stdout",
     "output_type": "stream",
     "text": [
      "Squares of even numbers: [4, 16, 36, 64, 100]\n"
     ]
    }
   ],
   "source": [
    "# Use list comprehension to create a list of squares of even numbers\n",
    "\n",
    "numbers=[1,2,3,4,5,6,7,8,9,10]\n",
    "squares_even=[num**2 for num in numbers if num%2==0]\n",
    "print(\"Squares of even numbers:\", squares_even)"
   ]
  },
  {
   "cell_type": "code",
   "execution_count": 110,
   "id": "92f0cd30-d7f0-4f4a-b3d9-fa453f33155b",
   "metadata": {},
   "outputs": [
    {
     "name": "stdout",
     "output_type": "stream",
     "text": [
      "Common elements: [4, 5]\n"
     ]
    }
   ],
   "source": [
    "# Write a program to find the common elements in two lists\n",
    "\n",
    "list1=[1,2,3,4,5]\n",
    "list2=[4,5,6,7,8]\n",
    "\n",
    "common_elements=[element for element in list1 if element in list2]\n",
    "print(\"Common elements:\", common_elements)\n"
   ]
  },
  {
   "cell_type": "code",
   "execution_count": 116,
   "id": "1e28045a-7246-4521-8fe4-919c8ce8db84",
   "metadata": {},
   "outputs": [
    {
     "name": "stdout",
     "output_type": "stream",
     "text": [
      "Average of numbers: 5.5\n"
     ]
    }
   ],
   "source": [
    "# Write a program to calculate the average of numbers in a list.\n",
    "\n",
    "numbers=[1,2,3,4,5,6,7,8,9,10]\n",
    "average=sum(numbers)/len(numbers)\n",
    "print(\"Average of numbers:\", average)\n"
   ]
  },
  {
   "cell_type": "code",
   "execution_count": 117,
   "id": "ad813fad-a8be-4067-aa1c-a53c74d32f7b",
   "metadata": {},
   "outputs": [
    {
     "name": "stdout",
     "output_type": "stream",
     "text": [
      "Unique numbers: [1, 2, 3, 4, 5, 6, 7, 8, 9, 10]\n"
     ]
    }
   ],
   "source": [
    "# Write a program to remove duplicates from a list.\n",
    "\n",
    "numbers=[1,2,3,4,4,5,5,6,7,7,8,9,10,10]\n",
    "unique_num=[]\n",
    "for num in numbers:\n",
    "    if num not in unique_num:\n",
    "        unique_num.append(num)\n",
    "\n",
    "print(\"Unique numbers:\", unique_num)"
   ]
  },
  {
   "cell_type": "code",
   "execution_count": 119,
   "id": "0dc8141f-64c4-4752-aad2-fdfa59277d94",
   "metadata": {},
   "outputs": [
    {
     "name": "stdout",
     "output_type": "stream",
     "text": [
      "Flattened list: [1, 2, 3, 4, 5, 6, 7, 8, 9]\n"
     ]
    }
   ],
   "source": [
    "# Write a program to flatten a nested list\n",
    "\n",
    "nested_list=[[1,2,3],[4,5],[6,7,8,9]]\n",
    "flat_list=[item for sublist in nested_list for item in sublist]\n",
    "print(\"Flattened list:\", flat_list)"
   ]
  },
  {
   "cell_type": "code",
   "execution_count": 123,
   "id": "d5bc024e-00ee-4a58-bf8f-1c4970355eb9",
   "metadata": {},
   "outputs": [
    {
     "name": "stdout",
     "output_type": "stream",
     "text": [
      "Dictionary: {'a': 1, 'b': 2, 'c': 3, 'd': 4}\n"
     ]
    }
   ],
   "source": [
    "# Write a program to generate a dictionary from two lists, one for keys and one for values \n",
    "\n",
    "keys=['a', 'b', 'c', 'd']\n",
    "values=[1,2,3,4]\n",
    "dictionary=dict(zip(keys, values))\n",
    "print(\"Dictionary:\", dictionary)"
   ]
  },
  {
   "cell_type": "code",
   "execution_count": 128,
   "id": "9a868966-e51c-4981-8b5d-960e81c36246",
   "metadata": {},
   "outputs": [
    {
     "name": "stdout",
     "output_type": "stream",
     "text": [
      "Occurences: {1: 1, 2: 2, 3: 3, 4: 4}\n"
     ]
    }
   ],
   "source": [
    "# Write a program to count the occurrences of each element in a list.\n",
    "\n",
    "numbers=[1,2,2,3,3,3,4,4,4,4]\n",
    "count_dict={}\n",
    "for num in numbers:\n",
    "    if num in count_dict:\n",
    "        count_dict[num]+=1\n",
    "    else:\n",
    "        count_dict[num]=1\n",
    "print(\"Occurences:\", count_dict)"
   ]
  },
  {
   "cell_type": "code",
   "execution_count": 132,
   "id": "6563527e-bbd4-4cd4-8387-def245d42f69",
   "metadata": {},
   "outputs": [
    {
     "name": "stdout",
     "output_type": "stream",
     "text": [
      "Tranposed matrix: [[1, 4, 7], [2, 5, 8], [3, 6, 9]]\n"
     ]
    }
   ],
   "source": [
    "# Write a program to transpose a given matrix.\n",
    "\n",
    "matrix= [\n",
    "    [1,2,3],\n",
    "    [4,5,6],\n",
    "    [7,8,9]\n",
    "]\n",
    "transposed_matrix=[[row[i] for row in matrix] for i in range(len(matrix[0]))]\n",
    "print(\"Tranposed matrix:\", transposed_matrix)"
   ]
  },
  {
   "cell_type": "code",
   "execution_count": 134,
   "id": "7b2e0f44-5388-49f5-a9b4-34582a29a71d",
   "metadata": {},
   "outputs": [
    {
     "name": "stdout",
     "output_type": "stream",
     "text": [
      "Are anagrams?: True\n"
     ]
    }
   ],
   "source": [
    "# Write a program to check if two strings are anagrams.\n",
    "\n",
    "str1=\"listen\"\n",
    "str2=\"silent\"\n",
    "is_anagram= sorted(str1)==sorted(str2)\n",
    "print(\"Are anagrams?:\", is_anagram)"
   ]
  },
  {
   "cell_type": "markdown",
   "id": "0abc75ff-4bbe-41fb-9d07-60e2346d669c",
   "metadata": {},
   "source": [
    "## Practice"
   ]
  },
  {
   "cell_type": "code",
   "execution_count": 1,
   "id": "89a3d639-1a4f-48a6-8568-5380b17593cd",
   "metadata": {},
   "outputs": [
    {
     "name": "stdout",
     "output_type": "stream",
     "text": [
      "The longest word is: Samantha\n"
     ]
    }
   ],
   "source": [
    "#Write a program to find the longest word in a given sentence.\n",
    "\n",
    "sentence=\"Hello my name is Samantha\"\n",
    "words=sentence.split()\n",
    "longest_word=\"\"\n",
    "\n",
    "for word in words :\n",
    "    if len(word)> len(longest_word):\n",
    "        longest_word=word\n",
    "\n",
    "print(\"The longest word is:\", longest_word)\n",
    "\n"
   ]
  },
  {
   "cell_type": "code",
   "execution_count": null,
   "id": "1489fa6a-aa00-4065-91aa-a73e77c41805",
   "metadata": {},
   "outputs": [],
   "source": [
    "# Write a program to generate the first n prime numbers.\n",
    "\n",
    "n=9\n",
    "primes=[]\n",
    "num=2\n",
    "\n",
    "while len(primes)<n:\n",
    "    is_prime=True\n",
    "for i in range(2, int(num**0.5)+1):\n",
    "    if num%i==0:\n",
    "        is_prime=Flase\n",
    "        break\n",
    "\n",
    "if is_prime:\n",
    "    primes.append(num)\n",
    "    num+=1\n",
    "\n",
    "print(primes)\n"
   ]
  },
  {
   "cell_type": "code",
   "execution_count": 11,
   "id": "503069d4-94db-4498-9813-036abbf1e92d",
   "metadata": {},
   "outputs": [
    {
     "name": "stdin",
     "output_type": "stream",
     "text": [
      "Enter a decimal number:  4\n"
     ]
    },
    {
     "name": "stdout",
     "output_type": "stream",
     "text": [
      "The binary representation of 4 is: 100\n"
     ]
    }
   ],
   "source": [
    "#Write a program to convert a decimal number to its binary representation.\n",
    "\n",
    "decimal_num = int(input(\"Enter a decimal number: \"))\n",
    "\n",
    "if decimal_num == 0:\n",
    "    print(\"The binary representation of 0 is: 0\")\n",
    "else:\n",
    "    binary_digits = []\n",
    "    \n",
    "    original_num = decimal_num  \n",
    "    \n",
    "    while decimal_num > 0:\n",
    "        remainder = decimal_num % 2  \n",
    "        binary_digits.append(str(remainder))  \n",
    "        decimal_num //= 2 \n",
    "    \n",
    "   \n",
    "    binary_digits.reverse()\n",
    "    \n",
    "    binary_num = ''.join(binary_digits)\n",
    "    print(\"The binary representation of\", original_num, \"is:\", binary_num)\n"
   ]
  },
  {
   "cell_type": "code",
   "execution_count": 15,
   "id": "1e3c40c6-5cdb-46b4-b415-531583a196f0",
   "metadata": {},
   "outputs": [
    {
     "name": "stdout",
     "output_type": "stream",
     "text": [
      "{'name': 'Sam', 'age': 21}\n",
      "{'name': 'Ben', 'age': 22}\n",
      "{'name': 'Priya', 'age': 30}\n"
     ]
    }
   ],
   "source": [
    "#Write a program to sort a list of dictionaries by a specified key.\n",
    "\n",
    "students = [\n",
    "    {'name': 'Sam', 'age': 21},\n",
    "    {'name': 'Priya', 'age': 30},\n",
    "    {'name': 'Ben', 'age': 22}\n",
    "]\n",
    "\n",
    "key_to_sort_by = 'age'\n",
    "\n",
    "students_sorted = sorted(students, key=lambda x: x[key_to_sort_by])\n",
    "\n",
    "for student in students_sorted:\n",
    "    print(student)"
   ]
  },
  {
   "cell_type": "code",
   "execution_count": 16,
   "id": "dcd8493b-7804-45b2-8e7b-746c5426a652",
   "metadata": {},
   "outputs": [
    {
     "name": "stdout",
     "output_type": "stream",
     "text": [
      "The GCD is: 6\n"
     ]
    }
   ],
   "source": [
    "#Write a program to calculate the greatest common divisor (GCD) of two numbers\n",
    "\n",
    "num1= 6\n",
    "num2= 12\n",
    "\n",
    "min_num=min(num1,num2)\n",
    "\n",
    "gcd=1\n",
    "\n",
    "\n",
    "for i in range(1, min_num+1):\n",
    "    if (num1%i==0 and num2%i==0):\n",
    "        gcd=i\n",
    "\n",
    "print(\"The GCD is:\", gcd)\n",
    "        "
   ]
  },
  {
   "cell_type": "code",
   "execution_count": 1,
   "id": "7022e811-4840-4655-8d0c-fb069f17e067",
   "metadata": {},
   "outputs": [
    {
     "name": "stdout",
     "output_type": "stream",
     "text": [
      "0\n",
      "1\n",
      "1\n",
      "2\n",
      "3\n",
      "5\n",
      "8\n",
      "13\n",
      "21\n",
      "34\n"
     ]
    }
   ],
   "source": [
    "# Write a program to print the Fibonacci sequence up to 'n' terms.\n",
    "\n",
    "n=10\n",
    "fib_sequence=[0,1]\n",
    "for i in range(2, n):\n",
    "    next_term=fib_sequence[i-1]+fib_sequence[i-2]\n",
    "    fib_sequence.append(next_term)\n",
    "\n",
    "for terms in fib_sequence:\n",
    "    print(terms)\n"
   ]
  },
  {
   "cell_type": "code",
   "execution_count": 7,
   "id": "d9612954-f485-4225-ae12-7fcbaf9b7ca9",
   "metadata": {},
   "outputs": [
    {
     "name": "stdout",
     "output_type": "stream",
     "text": [
      "Intersection is: [4, 5, 6]\n"
     ]
    }
   ],
   "source": [
    "#Write a program to find the intersection of two lists.\n",
    "\n",
    "list1=[2,3,4,5,6]\n",
    "list2=[4,5,6,7,8]\n",
    "\n",
    "intersection=[num for num in list1 if num in list2]\n",
    "\n",
    "print(\"Intersection is:\", intersection)"
   ]
  },
  {
   "cell_type": "code",
   "execution_count": 13,
   "id": "82003630-d78d-4d0a-8c60-858472f23cb9",
   "metadata": {},
   "outputs": [
    {
     "name": "stdout",
     "output_type": "stream",
     "text": [
      "Merged and Sorted list: [3, 4, 4, 5, 5, 6, 6, 7, 7, 8]\n"
     ]
    }
   ],
   "source": [
    "#Write a program to merge two sorted lists into a single sorted list.\n",
    "\n",
    "list1=[4,5,6,7,8]\n",
    "list2=[3,4,5,6,7]\n",
    "\n",
    "merge=list1+list2\n",
    "merge.sort()\n",
    "\n",
    "\n",
    "print(\"Merged and Sorted list:\", merge)"
   ]
  },
  {
   "cell_type": "code",
   "execution_count": 2,
   "id": "45cf2d76-6769-4bce-8e1a-9ced9a159424",
   "metadata": {},
   "outputs": [
    {
     "name": "stdout",
     "output_type": "stream",
     "text": [
      "[[19 22]\n",
      " [43 50]]\n"
     ]
    }
   ],
   "source": [
    "# Write a program to calculate the dot product of two vectors.\n",
    "\n",
    "import numpy as np\n",
    "\n",
    "A = np.array([[1, 2], [3, 4]])\n",
    "B = np.array([[5, 6], [7, 8]])\n",
    "\n",
    "C=np.dot(A,B)\n",
    "print(C)"
   ]
  },
  {
   "cell_type": "code",
   "execution_count": 25,
   "id": "effd0b3d-d8fa-4fea-9767-728e1b689ea5",
   "metadata": {},
   "outputs": [
    {
     "name": "stdin",
     "output_type": "stream",
     "text": [
      "Enter choice:1/2/3/4 3\n",
      "Enter first number: 4\n",
      "Enter second number: 2\n"
     ]
    },
    {
     "name": "stdout",
     "output_type": "stream",
     "text": [
      "4.0 * 2.0 = 8.0\n"
     ]
    }
   ],
   "source": [
    "# Write a program to implement a simple calculator that can perform basic arithmetic\n",
    "#operations (+, -, *, /).\n",
    "\n",
    "def main():\n",
    "    \n",
    "    print(\"Simple Calculator\")\n",
    "    print(\"Operations:\")\n",
    "    print(\"1. Addition (+)\")\n",
    "    print(\"2. Subtraction (-)\")\n",
    "    print(\"3. Multiplication (*)\")\n",
    "    print(\"4. Division (/)\")\n",
    "    \n",
    "\n",
    "operation= input(\"Enter choice:1/2/3/4\")\n",
    "\n",
    "if operation in ('1','2','3','4'):\n",
    "    num1=float(input(\"Enter first number:\"))\n",
    "    num2=float(input(\"Enter second number:\"))\n",
    "\n",
    "\n",
    "    if operation =='1':\n",
    "        answer1=num1+num2\n",
    "        print(num1,  \"+\", num2, \"=\", answer1)\n",
    "\n",
    "    elif operation=='2':\n",
    "        answer2= num1-num2\n",
    "        print(num1, \"-\", num2, \"=\", answer2)\n",
    "\n",
    "    elif operation=='3':\n",
    "        answer3= num1*num2\n",
    "        print(num1, \"*\", num2, \"=\", answer3)\n",
    "\n",
    "    elif operation=='4':\n",
    "        answer4=num1/num2\n",
    "        print(num1, \"/\", num2, \"=\", answer4)\n",
    "\n",
    "else:\n",
    "    print(\"Invalid input\")\n",
    "    \n",
    "\n"
   ]
  },
  {
   "cell_type": "code",
   "execution_count": null,
   "id": "bb44529e-95c7-4e57-8ad1-234ea2ac77a5",
   "metadata": {},
   "outputs": [],
   "source": []
  }
 ],
 "metadata": {
  "kernelspec": {
   "display_name": "Python 3 (ipykernel)",
   "language": "python",
   "name": "python3"
  },
  "language_info": {
   "codemirror_mode": {
    "name": "ipython",
    "version": 3
   },
   "file_extension": ".py",
   "mimetype": "text/x-python",
   "name": "python",
   "nbconvert_exporter": "python",
   "pygments_lexer": "ipython3",
   "version": "3.11.7"
  }
 },
 "nbformat": 4,
 "nbformat_minor": 5
}
